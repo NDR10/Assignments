{
 "cells": [
  {
   "cell_type": "markdown",
   "id": "d99f208b-c087-49b4-a547-1726d0429145",
   "metadata": {},
   "source": []
  },
  {
   "cell_type": "code",
   "execution_count": 3,
   "id": "b44206e1-7608-4974-ba8a-7bb6902a33d1",
   "metadata": {},
   "outputs": [
    {
     "name": "stdout",
     "output_type": "stream",
     "text": [
      "Assignment 1 for HOPE AI\n"
     ]
    }
   ],
   "source": [
    "#print statement \n",
    "print(\"Assignment 1 for HOPE AI\")"
   ]
  },
  {
   "cell_type": "code",
   "execution_count": 9,
   "id": "950f3c0c-9261-4844-bfdf-7c7c67a98837",
   "metadata": {},
   "outputs": [
    {
     "name": "stdout",
     "output_type": "stream",
     "text": [
      "Please answer all the questions asked below\n"
     ]
    },
    {
     "name": "stdin",
     "output_type": "stream",
     "text": [
      "What is your name? Dilip Raja N\n"
     ]
    },
    {
     "name": "stdout",
     "output_type": "stream",
     "text": [
      "Hi Dilip Raja N\n"
     ]
    },
    {
     "name": "stdin",
     "output_type": "stream",
     "text": [
      "What is your age? 43\n"
     ]
    },
    {
     "name": "stdout",
     "output_type": "stream",
     "text": [
      "Ok noted\n"
     ]
    },
    {
     "name": "stdin",
     "output_type": "stream",
     "text": [
      "Enter the name of your school Nazareth Matriculation Higher Secondary Schoool\n"
     ]
    },
    {
     "name": "stdout",
     "output_type": "stream",
     "text": [
      "Ok\n"
     ]
    },
    {
     "name": "stdin",
     "output_type": "stream",
     "text": [
      "Enter your degree Ph.D\n"
     ]
    },
    {
     "name": "stdout",
     "output_type": "stream",
     "text": [
      "That is good\n"
     ]
    },
    {
     "name": "stdin",
     "output_type": "stream",
     "text": [
      "Where are you working? Vel Tech Rangarajan Dr Sagunthala R&D Institute of Science and Technology\n"
     ]
    }
   ],
   "source": [
    "# Buy Inputs\n",
    "print(\"Please answer all the questions asked below\")\n",
    "Name1 = input(\"What is your name?\")\n",
    "print(\"Hi\", Name1)\n",
    "Age = int(input(\"What is your age?\"))\n",
    "print(\"Ok noted\")\n",
    "Name2 = input(\"Enter the name of your school\")\n",
    "print(\"Ok\")\n",
    "Name3 = input(\"Enter your degree\")\n",
    "print(\"That is good\")\n",
    "Name4 = input(\"Where are you working?\")"
   ]
  },
  {
   "cell_type": "code",
   "execution_count": 21,
   "id": "f59caec1-7c95-4333-93d5-c714a7ec9bca",
   "metadata": {},
   "outputs": [
    {
     "name": "stdin",
     "output_type": "stream",
     "text": [
      "Please enter the first number. 5\n",
      "Please enter the second number. 3\n"
     ]
    },
    {
     "name": "stdout",
     "output_type": "stream",
     "text": [
      "The sum of the two numbers is: 8\n",
      "The difference between the two numbers is: 2\n",
      "The product of the two numbers is: 15\n",
      "The ratio between the two numbers is: 1.6666666666666667\n",
      "After rounding off the division of two numbers we get: 1\n",
      "After division, the remainder for the two numbers is: 2\n",
      "The power of first number over the second number is: 125\n"
     ]
    }
   ],
   "source": [
    "# Buy Inputs for calculation\n",
    "N1=int(input(\"Please enter the first number.\"))\n",
    "N2=int(input(\"Please enter the second number.\"))\n",
    "Sum = N1 + N2\n",
    "Difference = N1 - N2\n",
    "Product = N1 * N2\n",
    "Ratio = N1 / N2\n",
    "Floor_Div = N1 // N2\n",
    "Remainder = N1 % N2\n",
    "Power = N1 ** N2\n",
    "print (\"The sum of the two numbers is:\", Sum)\n",
    "print (\"The difference between the two numbers is:\", Difference)\n",
    "print (\"The product of the two numbers is:\", Product)\n",
    "print (\"The ratio between the two numbers is:\", Ratio)\n",
    "print (\"After rounding off the division of two numbers we get:\", Floor_Div)\n",
    "print (\"After division, the remainder for the two numbers is:\", Remainder)\n",
    "print (\"The power of first number over the second number is:\", Power)"
   ]
  },
  {
   "cell_type": "code",
   "execution_count": null,
   "id": "52e4a306-de37-49f4-ad6e-247f69827b01",
   "metadata": {},
   "outputs": [],
   "source": []
  }
 ],
 "metadata": {
  "kernelspec": {
   "display_name": "Python 3 (ipykernel)",
   "language": "python",
   "name": "python3"
  },
  "language_info": {
   "codemirror_mode": {
    "name": "ipython",
    "version": 3
   },
   "file_extension": ".py",
   "mimetype": "text/x-python",
   "name": "python",
   "nbconvert_exporter": "python",
   "pygments_lexer": "ipython3",
   "version": "3.12.4"
  }
 },
 "nbformat": 4,
 "nbformat_minor": 5
}
