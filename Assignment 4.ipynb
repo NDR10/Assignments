{
 "cells": [
  {
   "cell_type": "code",
   "execution_count": null,
   "id": "6337eaa6-ec29-4fcb-b2a1-8284a4e5422a",
   "metadata": {},
   "outputs": [],
   "source": [
    "# Create a class and function, and list out the items in the list"
   ]
  },
  {
   "cell_type": "code",
   "execution_count": 124,
   "id": "59af53f6-33b7-4a87-a1b9-f70d8d452945",
   "metadata": {},
   "outputs": [
    {
     "name": "stdout",
     "output_type": "stream",
     "text": [
      "Machine Learning\n",
      "Neural Networks\n",
      "Vision\n",
      "Robotics\n",
      "Speech Processing\n",
      "Natural Language Processing\n"
     ]
    }
   ],
   "source": [
    "list = [1,2,3,4,5,6]\n",
    "def Subfields():\n",
    "    for Sub in list:\n",
    "        if Sub == 1:\n",
    "            print (\"Machine Learning\")\n",
    "        elif Sub == 2:\n",
    "            print (\"Neural Networks\")\n",
    "        elif Sub == 3:\n",
    "            print (\"Vision\")\n",
    "        elif Sub == 4:\n",
    "            print (\"Robotics\")\n",
    "        elif Sub == 5:\n",
    "            print (\"Speech Processing\")\n",
    "        else:\n",
    "            print (\"Natural Language Processing\")\n",
    "Subfields()"
   ]
  },
  {
   "cell_type": "code",
   "execution_count": null,
   "id": "a5df6a9d-1733-443a-80cc-a136dda9b95b",
   "metadata": {},
   "outputs": [],
   "source": [
    "# Create a function that checks whether the given number is Odd or Even"
   ]
  },
  {
   "cell_type": "code",
   "execution_count": 130,
   "id": "e6152547-12ea-41a7-94c1-03f33e8c5899",
   "metadata": {},
   "outputs": [
    {
     "name": "stdin",
     "output_type": "stream",
     "text": [
      "Please enter a number: 15452\n"
     ]
    },
    {
     "name": "stdout",
     "output_type": "stream",
     "text": [
      "The number you entered is an even number\n"
     ]
    }
   ],
   "source": [
    "def OddEven():\n",
    "    Number = int(input(\"Please enter a number:\"))\n",
    "    if Number % 2 == 0:\n",
    "        Datum = \"The number you entered is an even number\"\n",
    "    else:\n",
    "        Datum = \"The number you entered is an odd number\"\n",
    "    return Datum\n",
    "Datum = OddEven()\n",
    "print (Datum)"
   ]
  },
  {
   "cell_type": "code",
   "execution_count": null,
   "id": "ad32b0e8-344a-4651-8256-1ebd6a116c01",
   "metadata": {},
   "outputs": [],
   "source": [
    "# Create a function that tells eligibility of marriage for male and female"
   ]
  },
  {
   "cell_type": "code",
   "execution_count": 182,
   "id": "fe631c80-0d75-4c43-a197-781528e9dc45",
   "metadata": {},
   "outputs": [
    {
     "name": "stdin",
     "output_type": "stream",
     "text": [
      "Please enter your gender i.e., M if you are a male or F if you are a female: G\n"
     ]
    },
    {
     "name": "stdout",
     "output_type": "stream",
     "text": [
      "Please enter either M or F only\n"
     ]
    },
    {
     "name": "stdin",
     "output_type": "stream",
     "text": [
      "Please enter the correct letter: F\n",
      "Please enter your age 17\n"
     ]
    },
    {
     "name": "stdout",
     "output_type": "stream",
     "text": [
      "As per our government norms you are not eligible for marriage\n"
     ]
    }
   ],
   "source": [
    "Gender = input(\"Please enter your gender i.e., M if you are a male or F if you are a female:\")\n",
    "if Gender == \"M\":\n",
    "    print (\"Good. You entered the correct letter\")\n",
    "elif Gender == \"F\":\n",
    "    print (\"Good. You entered the correct letter\")\n",
    "else:\n",
    "    print (\"Please enter either M or F only\")\n",
    "    Value = input (\"Please enter the correct letter:\")\n",
    "    Value = Gender\n",
    "def Eligible():    \n",
    "    Age = int(input(\"Please enter your age\"))\n",
    "    if Gender == \"M\":\n",
    "        if Age >= 21:\n",
    "            Output = \"As per our government norms you are eligible for marriage\"\n",
    "        else:\n",
    "            Output = \"As per our government norms you are not eligible for marriage\"\n",
    "    else:\n",
    "        if Age >= 18:\n",
    "            Output = \"As per our government norms you are eligible for marriage\"\n",
    "        else:\n",
    "            Output = \"As per our government norms you are not eligible for marriage\"\n",
    "    return Output\n",
    "Output = Eligible()\n",
    "print (Output)"
   ]
  },
  {
   "cell_type": "code",
   "execution_count": null,
   "id": "bc4d1541-482b-4eb0-b1c5-cbba4644177b",
   "metadata": {},
   "outputs": [],
   "source": [
    "# calculate the percentage of your 10th mark"
   ]
  },
  {
   "cell_type": "code",
   "execution_count": 132,
   "id": "bfa7994e-8af8-4a1c-a68f-fd4f3bfc26a9",
   "metadata": {},
   "outputs": [
    {
     "name": "stdin",
     "output_type": "stream",
     "text": [
      "Please enter the marks for subject 1: 98\n",
      "Please enter the marks for subject 2: 87\n",
      "Please enter the marks for subject 3: 95\n",
      "Please enter the marks for subject 4: 95\n",
      "Please enter the marks for subject 5: 93\n"
     ]
    },
    {
     "name": "stdout",
     "output_type": "stream",
     "text": [
      "The total for the five subjects is: 468\n",
      "The percentage for the five subjects is: 93.6\n"
     ]
    }
   ],
   "source": [
    "Subject1 = int(input(\"Please enter the marks for subject 1:\"))\n",
    "Subject2 = int(input(\"Please enter the marks for subject 2:\"))\n",
    "Subject3 = int(input(\"Please enter the marks for subject 3:\"))\n",
    "Subject4 = int(input(\"Please enter the marks for subject 4:\"))\n",
    "Subject5 = int(input(\"Please enter the marks for subject 5:\"))\n",
    "Total = Subject1 + Subject2 + Subject3 + Subject4 + Subject5\n",
    "print (\"The total for the five subjects is:\", Total)\n",
    "def Percentage():\n",
    "    Percentage = Total * 100 / 500\n",
    "    return Percentage\n",
    "Percentage = Percentage()\n",
    "print (\"The percentage for the five subjects is:\", Percentage)"
   ]
  },
  {
   "cell_type": "code",
   "execution_count": null,
   "id": "ce6f750e-2414-4186-b92b-ae967a4db7c4",
   "metadata": {},
   "outputs": [],
   "source": [
    "#print area and perimeter of triangle using class and functions"
   ]
  },
  {
   "cell_type": "code",
   "execution_count": 178,
   "id": "cb67e290-b99f-42d1-8313-f1e8fa86ebe2",
   "metadata": {},
   "outputs": [
    {
     "name": "stdout",
     "output_type": "stream",
     "text": [
      "Determine the area or perimeter of the triangle.\n",
      "What do you want to calculate?\n"
     ]
    },
    {
     "name": "stdin",
     "output_type": "stream",
     "text": [
      "Press A for area or P for perimeter: P\n"
     ]
    },
    {
     "name": "stdout",
     "output_type": "stream",
     "text": [
      "Good. You entered the correct letter\n"
     ]
    },
    {
     "name": "stdin",
     "output_type": "stream",
     "text": [
      "Enter the height1 of the triangle: 2\n",
      "Enter the height2 of the triangle: 4\n",
      "Enter the breadth of the triangle: 4\n"
     ]
    },
    {
     "name": "stdout",
     "output_type": "stream",
     "text": [
      "The perimeter of the triangle is: 10\n"
     ]
    }
   ],
   "source": [
    "print (\"Determine the area or perimeter of the triangle.\") \n",
    "print (\"What do you want to calculate?\")    \n",
    "Value = input (\"Press A for area or P for perimeter:\")\n",
    "if Value == \"A\":\n",
    "    print (\"Good. You entered the correct letter\")\n",
    "elif Value == \"P\":\n",
    "    print (\"Good. You entered the correct letter\")\n",
    "else:\n",
    "    print (\"Please enter either A or P only\")\n",
    "    Value1 = input (\"Please enter the correct letter:\")\n",
    "    Value = Value1\n",
    "def Triangle():\n",
    "    if Value == \"A\":\n",
    "         Height = int(input(\"Enter the height of the triangle:\"))\n",
    "         Breadth = int(input(\"Enter the breadth of the triangle:\"))\n",
    "         Area = (Height * Breadth) / 2\n",
    "         Output = Area\n",
    "    else:\n",
    "         Height1 = int(input(\"Enter the height1 of the triangle:\"))\n",
    "         Height2 = int(input(\"Enter the height2 of the triangle:\"))\n",
    "         Breadth = int(input(\"Enter the breadth of the triangle:\"))\n",
    "         Perimeter = Height1 + Height2 + Breadth\n",
    "         Output = Perimeter\n",
    "    return Output\n",
    "Output = Triangle()\n",
    "if Value == \"A\":\n",
    "    print (\"The area of the triangle is:\", Output)\n",
    "else:\n",
    "    print (\"The perimeter of the triangle is:\", Output)"
   ]
  },
  {
   "cell_type": "code",
   "execution_count": null,
   "id": "2eb3cf59-e5e7-44ae-ac4d-c1a945ff6231",
   "metadata": {},
   "outputs": [],
   "source": []
  }
 ],
 "metadata": {
  "kernelspec": {
   "display_name": "Python 3 (ipykernel)",
   "language": "python",
   "name": "python3"
  },
  "language_info": {
   "codemirror_mode": {
    "name": "ipython",
    "version": 3
   },
   "file_extension": ".py",
   "mimetype": "text/x-python",
   "name": "python",
   "nbconvert_exporter": "python",
   "pygments_lexer": "ipython3",
   "version": "3.12.4"
  }
 },
 "nbformat": 4,
 "nbformat_minor": 5
}
