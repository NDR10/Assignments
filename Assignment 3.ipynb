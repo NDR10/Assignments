{
 "cells": [
  {
   "cell_type": "code",
   "execution_count": 6,
   "id": "332d5dd8-dab9-4df2-bcee-f5a26b4e8f27",
   "metadata": {},
   "outputs": [
    {
     "name": "stdin",
     "output_type": "stream",
     "text": [
      "Please enter the number. 12\n"
     ]
    },
    {
     "name": "stdout",
     "output_type": "stream",
     "text": [
      "Sorry! You have entered a wrong number\n"
     ]
    }
   ],
   "source": [
    "#Check if you have entered the number correctly\n",
    "Num1 = 10\n",
    "Num2 = int(input(\"Please enter the number.\"))\n",
    "if Num2 == Num1:\n",
    "    print(\"Hurray. You have entered the number correctly.\")\n",
    "else:\n",
    "    print(\"Sorry! You have entered a wrong number\")"
   ]
  },
  {
   "cell_type": "code",
   "execution_count": 12,
   "id": "24186170-aa0d-42c7-8429-1540c17b6a45",
   "metadata": {},
   "outputs": [
    {
     "name": "stdin",
     "output_type": "stream",
     "text": [
      "Please enter the password. Hope@123\n"
     ]
    },
    {
     "name": "stdout",
     "output_type": "stream",
     "text": [
      "Hurray. You have entered the correct password.\n"
     ]
    }
   ],
   "source": [
    "Password1 = \"Hope@123\"\n",
    "Password2 = input(\"Please enter the password.\")\n",
    "if Password2 == Password1:\n",
    "    print(\"Hurray. You have entered the correct password.\")\n",
    "else:\n",
    "    print(\"Sorry! You have entered a wrong password\")"
   ]
  },
  {
   "cell_type": "code",
   "execution_count": 20,
   "id": "3dd3462f-b158-463a-b126-00340f5b1bac",
   "metadata": {},
   "outputs": [
    {
     "name": "stdin",
     "output_type": "stream",
     "text": [
      "Please enter your age. 65\n"
     ]
    },
    {
     "name": "stdout",
     "output_type": "stream",
     "text": [
      "You are a senior citizen.\n"
     ]
    }
   ],
   "source": [
    "#Check the category of the people\n",
    "Age = int(input (\"Please enter your age.\"))\n",
    "if Age<18:\n",
    "    print(\"You are a child.\")\n",
    "elif Age<30:\n",
    "    print(\"You are aa adult.\")\n",
    "elif Age<60:\n",
    "    print(\"You are a citizen.\")\n",
    "else:\n",
    "    print(\"You are a senior citizen.\")"
   ]
  },
  {
   "cell_type": "code",
   "execution_count": 26,
   "id": "1455ed58-057f-4009-9593-25918197dd31",
   "metadata": {},
   "outputs": [
    {
     "name": "stdin",
     "output_type": "stream",
     "text": [
      "Please enter a number. 0\n"
     ]
    },
    {
     "name": "stdout",
     "output_type": "stream",
     "text": [
      "The number is neither positive nor negative\n"
     ]
    }
   ],
   "source": [
    "#Check if a number is positive or negative\n",
    "Num3 = int(input(\"Please enter a number.\"))\n",
    "if Num3 > 0:\n",
    "    print (\"The number is positive\")\n",
    "elif Num3 < 0:\n",
    "    print (\"The number is negative\")\n",
    "else:\n",
    "    print (\"The number is neither positive nor negative\")"
   ]
  },
  {
   "cell_type": "code",
   "execution_count": 30,
   "id": "3b8606e6-396d-4ad7-baa9-dbfabedd1502",
   "metadata": {},
   "outputs": [
    {
     "name": "stdin",
     "output_type": "stream",
     "text": [
      "Please enter a number. 23\n"
     ]
    },
    {
     "name": "stdout",
     "output_type": "stream",
     "text": [
      "The number is not divisible by five\n"
     ]
    }
   ],
   "source": [
    "#Check if a number is divisible by five\n",
    "Num4 = int(input(\"Please enter a number.\"))\n",
    "if Num4 % 5 == 0:\n",
    "    print (\"The number is divisible by five\")\n",
    "else:\n",
    "    print (\"The number is not divisible by five\")"
   ]
  },
  {
   "cell_type": "code",
   "execution_count": null,
   "id": "d8f98b1b-0a40-4689-ae73-f0ba6f329637",
   "metadata": {},
   "outputs": [],
   "source": []
  }
 ],
 "metadata": {
  "kernelspec": {
   "display_name": "Python 3 (ipykernel)",
   "language": "python",
   "name": "python3"
  },
  "language_info": {
   "codemirror_mode": {
    "name": "ipython",
    "version": 3
   },
   "file_extension": ".py",
   "mimetype": "text/x-python",
   "name": "python",
   "nbconvert_exporter": "python",
   "pygments_lexer": "ipython3",
   "version": "3.12.4"
  }
 },
 "nbformat": 4,
 "nbformat_minor": 5
}
