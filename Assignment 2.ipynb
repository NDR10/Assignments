{
 "cells": [
  {
   "cell_type": "code",
   "execution_count": 6,
   "id": "262c4462-de0b-4006-a529-410a38aa3c57",
   "metadata": {},
   "outputs": [
    {
     "name": "stdout",
     "output_type": "stream",
     "text": [
      "0\n",
      "1\n",
      "2\n",
      "3\n",
      "4\n",
      "5\n",
      "6\n",
      "7\n",
      "8\n",
      "9\n",
      "10\n",
      "11\n",
      "12\n",
      "13\n",
      "14\n",
      "15\n",
      "16\n",
      "17\n",
      "18\n",
      "19\n"
     ]
    }
   ],
   "source": [
    "# Print 0 to 20 by using the range command\n",
    "list1 = range(0,20)\n",
    "for N1 in list1:\n",
    "    print (N1)"
   ]
  },
  {
   "cell_type": "code",
   "execution_count": 2,
   "id": "08ae3597-4126-4671-951b-e2c7000a0375",
   "metadata": {},
   "outputs": [
    {
     "name": "stdout",
     "output_type": "stream",
     "text": [
      "10 11 12 13 14 15 16 17 18 19 "
     ]
    }
   ],
   "source": [
    "list2 = range(10,20)\n",
    "for N2 in list2:\n",
    "    print(N2, end =\" \"),"
   ]
  },
  {
   "cell_type": "code",
   "execution_count": 44,
   "id": "a8163ee4-573e-4d3b-b4c3-80b060767776",
   "metadata": {},
   "outputs": [
    {
     "name": "stdin",
     "output_type": "stream",
     "text": [
      "Please enter some numbers separated by space 1 3 5 7 8 9 11\n"
     ]
    },
    {
     "name": "stdout",
     "output_type": "stream",
     "text": [
      "You have entered 7 numbers\n"
     ]
    }
   ],
   "source": [
    "N3 = list(map(int, input(\"Please enter some numbers separated by space\"). split()))\n",
    "print(\"You have entered\", len(N3), \"numbers\")"
   ]
  },
  {
   "cell_type": "code",
   "execution_count": 20,
   "id": "81f699db-6dac-4703-a74f-73b51b436f7b",
   "metadata": {},
   "outputs": [
    {
     "name": "stdin",
     "output_type": "stream",
     "text": [
      "Please enter a word. Artificial Intelligence\n"
     ]
    },
    {
     "name": "stdout",
     "output_type": "stream",
     "text": [
      "A\n",
      "r\n",
      "t\n",
      "i\n",
      "f\n",
      "i\n",
      "c\n",
      "i\n",
      "a\n",
      "l\n",
      " \n",
      "I\n",
      "n\n",
      "t\n",
      "e\n",
      "l\n",
      "l\n",
      "i\n",
      "g\n",
      "e\n",
      "n\n",
      "c\n",
      "e\n"
     ]
    }
   ],
   "source": [
    "Word = input (\"Please enter a word.\")\n",
    "for N4 in Word:\n",
    "    print (N4)"
   ]
  },
  {
   "cell_type": "code",
   "execution_count": 26,
   "id": "0e4149de-00d7-4ab1-8ee2-831bf9e98092",
   "metadata": {},
   "outputs": [
    {
     "name": "stdin",
     "output_type": "stream",
     "text": [
      "What is your name? Dilip Raja\n",
      "What is your age? 43\n",
      "What is your professoion? Professor\n"
     ]
    },
    {
     "name": "stdout",
     "output_type": "stream",
     "text": [
      "You are Dilip Raja\n",
      "Your age is: 43\n",
      "Your profession is Professor\n"
     ]
    }
   ],
   "source": [
    "Name1 = input(\"What is your name?\")\n",
    "Age = int(input(\"What is your age?\"))\n",
    "Name2 = input(\"What is your professoion?\")\n",
    "print(\"You are\", Name1)\n",
    "print(\"Your age is\", Age)\n",
    "print(\"Your profession is\", Name2)"
   ]
  },
  {
   "cell_type": "code",
   "execution_count": 36,
   "id": "92d90c04-ac94-495c-b974-ef85baecee20",
   "metadata": {},
   "outputs": [
    {
     "name": "stdin",
     "output_type": "stream",
     "text": [
      "Enter any number 1\n",
      "Please enter a word Welcome\n",
      "Enter another number 2\n",
      "Please enter another word Hope\n"
     ]
    },
    {
     "name": "stdout",
     "output_type": "stream",
     "text": [
      "Below is an example that we can print a mixture of numbers and words in a single line\n",
      "(1, 'Welcome', 2, 'Hope')\n"
     ]
    }
   ],
   "source": [
    "# Mixed data type using Tuples\n",
    "N1=int(input(\"Enter any number\"))\n",
    "W1= input(\"Please enter a word\")\n",
    "N2=int(input(\"Enter another number\"))\n",
    "W2= input(\"Please enter another word\")\n",
    "Tuple1 = (N1, W1, N2, W2)\n",
    "print (\"Below is an example that we can print a mixture of numbers and words in a single line\")\n",
    "print(Tuple1)"
   ]
  },
  {
   "cell_type": "code",
   "execution_count": 46,
   "id": "79dc9597-1a6b-423d-a1ee-503ef8d1064b",
   "metadata": {},
   "outputs": [
    {
     "name": "stdin",
     "output_type": "stream",
     "text": [
      "Please enter some numbers separated by space 1 5 7 9 11 15 18 22 28\n",
      "Please enter some words separated by space Hope is giving good coaching\n"
     ]
    },
    {
     "name": "stdout",
     "output_type": "stream",
     "text": [
      "We can combine two or more tuples as shown below\n",
      "([1, 5, 7, 9, 11, 15, 18, 22, 28], ['Hope', 'is', 'giving', 'good', 'coaching'])\n"
     ]
    }
   ],
   "source": [
    "# Combining Tuples\n",
    "N3 = list(map(int, input(\"Please enter some numbers separated by space\"). split()))\n",
    "W3 = input(\"Please enter some words separated by space\"). split()\n",
    "Tuple3 = (N3)\n",
    "Tuple4 = (W3)\n",
    "Tuple5 = (Tuple3, Tuple4)\n",
    "print (\"We can combine two or more tuples as shown below\")\n",
    "print(Tuple5)"
   ]
  },
  {
   "cell_type": "code",
   "execution_count": 50,
   "id": "8daa4eb3-5b9c-414f-9ccf-3b6e4683c4e5",
   "metadata": {},
   "outputs": [
    {
     "name": "stdin",
     "output_type": "stream",
     "text": [
      "Please enter some numbers separated by space 1 5 8 16 21 18\n"
     ]
    },
    {
     "name": "stdout",
     "output_type": "stream",
     "text": [
      "1 is an odd number\n",
      "5 is an odd number\n",
      "21 is an odd number\n"
     ]
    }
   ],
   "source": [
    "# Print odd numbers in the list\n",
    "N3 = list(map(int, input(\"Please enter some numbers separated by space\"). split()))\n",
    "for N4 in N3:\n",
    "    if (N4 % 2 == 1):\n",
    "        print(N4, \"is an odd number\")"
   ]
  },
  {
   "cell_type": "code",
   "execution_count": 52,
   "id": "80c00c5f-4d66-4ef0-8078-d4568534c229",
   "metadata": {},
   "outputs": [
    {
     "name": "stdin",
     "output_type": "stream",
     "text": [
      "Please enter some numbers separated by space 1 2 4 6 7 9 11 14 15 20 23\n"
     ]
    },
    {
     "name": "stdout",
     "output_type": "stream",
     "text": [
      "2 is an even number\n",
      "4 is an even number\n",
      "6 is an even number\n",
      "14 is an even number\n",
      "20 is an even number\n"
     ]
    }
   ],
   "source": [
    "# Print even numbers in the list\n",
    "N5 = list(map(int, input(\"Please enter some numbers separated by space\"). split()))\n",
    "for N6 in N5:\n",
    "    if (N6 % 2 == 0):\n",
    "        print(N6, \"is an even number\")"
   ]
  },
  {
   "cell_type": "code",
   "execution_count": null,
   "id": "0d34f769-b6e4-4337-81d8-760ef63a99c2",
   "metadata": {},
   "outputs": [],
   "source": []
  }
 ],
 "metadata": {
  "kernelspec": {
   "display_name": "Python 3 (ipykernel)",
   "language": "python",
   "name": "python3"
  },
  "language_info": {
   "codemirror_mode": {
    "name": "ipython",
    "version": 3
   },
   "file_extension": ".py",
   "mimetype": "text/x-python",
   "name": "python",
   "nbconvert_exporter": "python",
   "pygments_lexer": "ipython3",
   "version": "3.12.4"
  }
 },
 "nbformat": 4,
 "nbformat_minor": 5
}
