{
 "cells": [
  {
   "cell_type": "code",
   "execution_count": null,
   "id": "fe24a54a-3912-483d-abda-fe5a88a75d61",
   "metadata": {},
   "outputs": [],
   "source": [
    "from Mainfile import Main"
   ]
  },
  {
   "cell_type": "code",
   "execution_count": null,
   "id": "31e185a3-9ab7-4dcb-804d-f81cfde5650c",
   "metadata": {},
   "outputs": [],
   "source": [
    "Main.OddEven()"
   ]
  },
  {
   "cell_type": "code",
   "execution_count": null,
   "id": "47a84cf1-3ac9-4bed-94b1-f8115999cd04",
   "metadata": {},
   "outputs": [],
   "source": [
    "Main.Eligible()"
   ]
  },
  {
   "cell_type": "code",
   "execution_count": null,
   "id": "c2f90a83-f836-480c-95e5-dee7d881bcbe",
   "metadata": {},
   "outputs": [],
   "source": [
    "Main.Percentage()"
   ]
  },
  {
   "cell_type": "code",
   "execution_count": null,
   "id": "9c3aa3d1-c517-4e3f-b03d-a9eb6a1f47dd",
   "metadata": {},
   "outputs": [],
   "source": [
    "Main.Triangle()"
   ]
  },
  {
   "cell_type": "code",
   "execution_count": null,
   "id": "96b74e91-cb91-4d50-a58d-f51d6f8cfc78",
   "metadata": {},
   "outputs": [],
   "source": []
  }
 ],
 "metadata": {
  "kernelspec": {
   "display_name": "Python 3 (ipykernel)",
   "language": "python",
   "name": "python3"
  },
  "language_info": {
   "codemirror_mode": {
    "name": "ipython",
    "version": 3
   },
   "file_extension": ".py",
   "mimetype": "text/x-python",
   "name": "python",
   "nbconvert_exporter": "python",
   "pygments_lexer": "ipython3",
   "version": "3.12.4"
  }
 },
 "nbformat": 4,
 "nbformat_minor": 5
}
